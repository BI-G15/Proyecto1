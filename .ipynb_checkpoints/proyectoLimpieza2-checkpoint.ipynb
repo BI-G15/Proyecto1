{
 "cells": [
  {
   "cell_type": "markdown",
   "metadata": {
    "id": "xfLBFOycqSzw"
   },
   "source": [
    "# Proyecto 1"
   ]
  },
  {
   "cell_type": "markdown",
   "metadata": {
    "id": "nJNT8mpPqWp3"
   },
   "source": [
    "## Integrantes\n",
    "\n",
    "* Maria Paula Gonzalez Escallon \n",
    "* Jessica Alejandra Robles Moreno\n",
    "* Juan Esteban Vergara Ascencio"
   ]
  },
  {
   "cell_type": "markdown",
   "metadata": {
    "id": "v7XWcRaCqttj"
   },
   "source": [
    "# Importar"
   ]
  },
  {
   "cell_type": "code",
   "execution_count": 1,
   "metadata": {
    "id": "JOMXUuR3qgIO"
   },
   "outputs": [],
   "source": [
    "# Librerías para manejo de datos\n",
    "import pandas as pd\n",
    "pd.set_option('display.max_columns', 25) # Número máximo de columnas a mostrar\n",
    "pd.set_option('display.max_rows', 50) # Numero máximo de filas a mostar\n",
    "import numpy as np\n",
    "np.random.seed(3301)\n",
    "import pandas as pd\n",
    "# Para preparar los datos\n",
    "from sklearn.preprocessing import LabelEncoder\n",
    "# Para crear el arbol de decisión \n",
    "from sklearn.tree import DecisionTreeClassifier \n",
    "# Para usar KNN como clasificador\n",
    "from sklearn.neighbors import KNeighborsClassifier\n",
    "# Para realizar la separación del conjunto de aprendizaje en entrenamiento y test.\n",
    "from sklearn.model_selection import train_test_split\n",
    "# Para evaluar el modelo\n",
    "from sklearn.metrics import confusion_matrix, classification_report, precision_score, recall_score, f1_score, accuracy_score\n",
    "from sklearn.metrics import plot_confusion_matrix\n",
    "# Para búsqueda de hiperparámetros\n",
    "from sklearn.model_selection import GridSearchCV\n",
    "# Para la validación cruzada\n",
    "from sklearn.model_selection import KFold \n",
    "#Librerías para la visualización\n",
    "import matplotlib.pyplot as plt\n",
    "\n",
    "import string\n",
    "\n",
    "\n",
    "# save numpy array as csv file\n",
    "from numpy import asarray\n",
    "from numpy import savetxt\n",
    "\n",
    "# Seaborn\n",
    "import seaborn as sns \n",
    "from sklearn import tree"
   ]
  },
  {
   "cell_type": "markdown",
   "metadata": {
    "id": "ILsXT537q-Py"
   },
   "source": [
    "## Carga de Datos"
   ]
  },
  {
   "cell_type": "code",
   "execution_count": 2,
   "metadata": {
    "id": "OjLUmsAsrI3X"
   },
   "outputs": [],
   "source": [
    "df_info=pd.read_csv('SuicidiosProyecto.csv', sep=',', decimal=',', encoding = 'utf-8', index_col=0)"
   ]
  },
  {
   "cell_type": "code",
   "execution_count": 3,
   "metadata": {
    "colab": {
     "base_uri": "https://localhost:8080/"
    },
    "id": "f1bc26f7-8b09-4d10-b97d-20ffd39f3a9c",
    "outputId": "85185f4d-c4b3-43d6-f235-53e292f3770e"
   },
   "outputs": [
    {
     "data": {
      "text/plain": [
       "(195700, 2)"
      ]
     },
     "execution_count": 3,
     "metadata": {},
     "output_type": "execute_result"
    }
   ],
   "source": [
    "df_info.shape"
   ]
  },
  {
   "cell_type": "code",
   "execution_count": 4,
   "metadata": {
    "colab": {
     "base_uri": "https://localhost:8080/",
     "height": 238
    },
    "id": "15eb91d4-8982-44b4-8942-8fd529409984",
    "outputId": "eb0bb8c1-0b85-400c-b863-8e8203ff3e94"
   },
   "outputs": [
    {
     "data": {
      "text/html": [
       "<div>\n",
       "<style scoped>\n",
       "    .dataframe tbody tr th:only-of-type {\n",
       "        vertical-align: middle;\n",
       "    }\n",
       "\n",
       "    .dataframe tbody tr th {\n",
       "        vertical-align: top;\n",
       "    }\n",
       "\n",
       "    .dataframe thead th {\n",
       "        text-align: right;\n",
       "    }\n",
       "</style>\n",
       "<table border=\"1\" class=\"dataframe\">\n",
       "  <thead>\n",
       "    <tr style=\"text-align: right;\">\n",
       "      <th></th>\n",
       "      <th>text</th>\n",
       "      <th>class</th>\n",
       "    </tr>\n",
       "    <tr>\n",
       "      <th>Unnamed: 0</th>\n",
       "      <th></th>\n",
       "      <th></th>\n",
       "    </tr>\n",
       "  </thead>\n",
       "  <tbody>\n",
       "    <tr>\n",
       "      <th>173271</th>\n",
       "      <td>i want to destroy myselffor once everything wa...</td>\n",
       "      <td>suicide</td>\n",
       "    </tr>\n",
       "    <tr>\n",
       "      <th>336321</th>\n",
       "      <td>I kinda got behind schedule with learning for ...</td>\n",
       "      <td>non-suicide</td>\n",
       "    </tr>\n",
       "    <tr>\n",
       "      <th>256637</th>\n",
       "      <td>I'm just not sure anymoreFirst and foremost: I...</td>\n",
       "      <td>suicide</td>\n",
       "    </tr>\n",
       "    <tr>\n",
       "      <th>303772</th>\n",
       "      <td>please give me a reason to liveThats too much ...</td>\n",
       "      <td>suicide</td>\n",
       "    </tr>\n",
       "    <tr>\n",
       "      <th>293747</th>\n",
       "      <td>27f struggling to find meaning moving forwardI...</td>\n",
       "      <td>suicide</td>\n",
       "    </tr>\n",
       "  </tbody>\n",
       "</table>\n",
       "</div>"
      ],
      "text/plain": [
       "                                                         text        class\n",
       "Unnamed: 0                                                                \n",
       "173271      i want to destroy myselffor once everything wa...      suicide\n",
       "336321      I kinda got behind schedule with learning for ...  non-suicide\n",
       "256637      I'm just not sure anymoreFirst and foremost: I...      suicide\n",
       "303772      please give me a reason to liveThats too much ...      suicide\n",
       "293747      27f struggling to find meaning moving forwardI...      suicide"
      ]
     },
     "execution_count": 4,
     "metadata": {},
     "output_type": "execute_result"
    }
   ],
   "source": [
    "df_info.head()"
   ]
  },
  {
   "cell_type": "code",
   "execution_count": 5,
   "metadata": {
    "colab": {
     "base_uri": "https://localhost:8080/"
    },
    "id": "1ad8890f-d30b-432f-a95b-6aff13624977",
    "outputId": "1e0ff5ee-4bde-44ac-e1ed-a0c45cc8b01a"
   },
   "outputs": [
    {
     "name": "stdout",
     "output_type": "stream",
     "text": [
      "<class 'pandas.core.frame.DataFrame'>\n",
      "Int64Index: 195700 entries, 173271 to 305170\n",
      "Data columns (total 2 columns):\n",
      " #   Column  Non-Null Count   Dtype \n",
      "---  ------  --------------   ----- \n",
      " 0   text    195700 non-null  object\n",
      " 1   class   195700 non-null  object\n",
      "dtypes: object(2)\n",
      "memory usage: 4.5+ MB\n"
     ]
    }
   ],
   "source": [
    "df_info.info()"
   ]
  },
  {
   "cell_type": "code",
   "execution_count": 6,
   "metadata": {
    "colab": {
     "base_uri": "https://localhost:8080/"
    },
    "id": "7A2GViX_uj1K",
    "outputId": "6098b8ee-8525-474d-c138-a0afd1ea075e"
   },
   "outputs": [
    {
     "data": {
      "text/plain": [
       "non-suicide    110165\n",
       "suicide         85535\n",
       "Name: class, dtype: int64"
      ]
     },
     "execution_count": 6,
     "metadata": {},
     "output_type": "execute_result"
    }
   ],
   "source": [
    "df_info[\"class\"].value_counts()"
   ]
  },
  {
   "cell_type": "markdown",
   "metadata": {
    "id": "zF4fxAw5uZDB"
   },
   "source": [
    "## Limpieza de datos"
   ]
  },
  {
   "cell_type": "code",
   "execution_count": 7,
   "metadata": {
    "id": "8wMmQ_Pmusce"
   },
   "outputs": [],
   "source": [
    "import string\n",
    "punctuation = set(string.punctuation)\n",
    "def tokenize(sentence):\n",
    "    tokens = []\n",
    "    for token in sentence.split():\n",
    "        new_token = []\n",
    "        for character in token:\n",
    "            if character not in punctuation:\n",
    "                new_token.append(character.lower())\n",
    "        if new_token:\n",
    "            tokens.append(\"\".join(new_token))\n",
    "    return tokens"
   ]
  },
  {
   "cell_type": "code",
   "execution_count": 8,
   "metadata": {
    "colab": {
     "base_uri": "https://localhost:8080/"
    },
    "id": "iWS1JACuu42V",
    "outputId": "22836037-ae96-46e7-bead-303da45c0395"
   },
   "outputs": [],
   "source": [
    "df_copia=df_info\n",
    "#Los datos tokenizados guardados para usarlos, aunque parece que el algoritmo no sirve con eso, no veo sentido en \n",
    "#tokenizarlos\n",
    "\n",
    "#df_copia.text=df_info[\"text\"].apply(tokenize)\n",
    "#df_copia.head()\n",
    "\n",
    "#Hay muchos caracteres no ascii asi que no los quitare, pueden ser relevantes\n",
    "\n",
    "def to_lowercase(words):\n",
    "    new_words=words.lower()\n",
    "    return new_words\n",
    "\n",
    "def remove_punctuation(words):\n",
    "    \n",
    "    a_string = words\n",
    "    new_words  = a_string.replace('.', '')\n",
    "    new_words = new_words.replace(':','')\n",
    "    new_words = new_words.replace(',','')\n",
    "    new_words = new_words.replace(';','')\n",
    "    new_words = new_words.replace('filler','')\n",
    "    return new_words\n",
    "\n",
    "\n",
    "def preprocessing(words):\n",
    "    words = to_lowercase(words)\n",
    "    words = remove_punctuation(words)\n",
    "    return words"
   ]
  },
  {
   "cell_type": "code",
   "execution_count": 9,
   "metadata": {},
   "outputs": [],
   "source": [
    "df_copia[\"text\"]=df_copia[\"text\"].apply(preprocessing)"
   ]
  },
  {
   "cell_type": "code",
   "execution_count": 10,
   "metadata": {},
   "outputs": [],
   "source": [
    "df_copia.to_csv(\"prueba.csv\")"
   ]
  },
  {
   "cell_type": "code",
   "execution_count": 11,
   "metadata": {
    "id": "MA9llS3fvni0"
   },
   "outputs": [],
   "source": [
    "from sklearn.feature_extraction.text import CountVectorizer\n",
    "demo_vectorizer = CountVectorizer(\n",
    "    tokenizer = tokenize,\n",
    "    binary = True\n",
    ")"
   ]
  },
  {
   "cell_type": "code",
   "execution_count": 12,
   "metadata": {
    "colab": {
     "base_uri": "https://localhost:8080/"
    },
    "id": "C_rsT_MqwMbk",
    "outputId": "fe232b84-5e8f-49a0-ad0c-4c7ee879a74d"
   },
   "outputs": [
    {
     "name": "stdout",
     "output_type": "stream",
     "text": [
      "Training examples: 146775, testing examples 48925\n"
     ]
    }
   ],
   "source": [
    "from sklearn.model_selection import train_test_split\n",
    "train_text, test_text, train_labels, test_labels = train_test_split(df_copia[\"text\"], df_copia[\"class\"], stratify=df_copia[\"class\"])\n",
    "print(f\"Training examples: {len(train_text)}, testing examples {len(test_text)}\")"
   ]
  },
  {
   "cell_type": "code",
   "execution_count": 13,
   "metadata": {
    "id": "QRM65JmMwcTi"
   },
   "outputs": [],
   "source": [
    "real_vectorizer = CountVectorizer(tokenizer = tokenize, binary=True)\n",
    "train_X = real_vectorizer.fit_transform(train_text)\n",
    "test_X = real_vectorizer.transform(test_text)"
   ]
  },
  {
   "cell_type": "code",
   "execution_count": 14,
   "metadata": {
    "colab": {
     "base_uri": "https://localhost:8080/"
    },
    "id": "3YqcD6jawddi",
    "outputId": "e4d9802e-cfe4-410e-d853-1e2ae0cb856e"
   },
   "outputs": [
    {
     "name": "stderr",
     "output_type": "stream",
     "text": [
      "C:\\Users\\usuario\\AppData\\Roaming\\Python\\Python39\\site-packages\\sklearn\\svm\\_base.py:1225: ConvergenceWarning: Liblinear failed to converge, increase the number of iterations.\n",
      "  warnings.warn(\n"
     ]
    },
    {
     "data": {
      "text/html": [
       "<style>#sk-container-id-1 {color: black;background-color: white;}#sk-container-id-1 pre{padding: 0;}#sk-container-id-1 div.sk-toggleable {background-color: white;}#sk-container-id-1 label.sk-toggleable__label {cursor: pointer;display: block;width: 100%;margin-bottom: 0;padding: 0.3em;box-sizing: border-box;text-align: center;}#sk-container-id-1 label.sk-toggleable__label-arrow:before {content: \"▸\";float: left;margin-right: 0.25em;color: #696969;}#sk-container-id-1 label.sk-toggleable__label-arrow:hover:before {color: black;}#sk-container-id-1 div.sk-estimator:hover label.sk-toggleable__label-arrow:before {color: black;}#sk-container-id-1 div.sk-toggleable__content {max-height: 0;max-width: 0;overflow: hidden;text-align: left;background-color: #f0f8ff;}#sk-container-id-1 div.sk-toggleable__content pre {margin: 0.2em;color: black;border-radius: 0.25em;background-color: #f0f8ff;}#sk-container-id-1 input.sk-toggleable__control:checked~div.sk-toggleable__content {max-height: 200px;max-width: 100%;overflow: auto;}#sk-container-id-1 input.sk-toggleable__control:checked~label.sk-toggleable__label-arrow:before {content: \"▾\";}#sk-container-id-1 div.sk-estimator input.sk-toggleable__control:checked~label.sk-toggleable__label {background-color: #d4ebff;}#sk-container-id-1 div.sk-label input.sk-toggleable__control:checked~label.sk-toggleable__label {background-color: #d4ebff;}#sk-container-id-1 input.sk-hidden--visually {border: 0;clip: rect(1px 1px 1px 1px);clip: rect(1px, 1px, 1px, 1px);height: 1px;margin: -1px;overflow: hidden;padding: 0;position: absolute;width: 1px;}#sk-container-id-1 div.sk-estimator {font-family: monospace;background-color: #f0f8ff;border: 1px dotted black;border-radius: 0.25em;box-sizing: border-box;margin-bottom: 0.5em;}#sk-container-id-1 div.sk-estimator:hover {background-color: #d4ebff;}#sk-container-id-1 div.sk-parallel-item::after {content: \"\";width: 100%;border-bottom: 1px solid gray;flex-grow: 1;}#sk-container-id-1 div.sk-label:hover label.sk-toggleable__label {background-color: #d4ebff;}#sk-container-id-1 div.sk-serial::before {content: \"\";position: absolute;border-left: 1px solid gray;box-sizing: border-box;top: 0;bottom: 0;left: 50%;z-index: 0;}#sk-container-id-1 div.sk-serial {display: flex;flex-direction: column;align-items: center;background-color: white;padding-right: 0.2em;padding-left: 0.2em;position: relative;}#sk-container-id-1 div.sk-item {position: relative;z-index: 1;}#sk-container-id-1 div.sk-parallel {display: flex;align-items: stretch;justify-content: center;background-color: white;position: relative;}#sk-container-id-1 div.sk-item::before, #sk-container-id-1 div.sk-parallel-item::before {content: \"\";position: absolute;border-left: 1px solid gray;box-sizing: border-box;top: 0;bottom: 0;left: 50%;z-index: -1;}#sk-container-id-1 div.sk-parallel-item {display: flex;flex-direction: column;z-index: 1;position: relative;background-color: white;}#sk-container-id-1 div.sk-parallel-item:first-child::after {align-self: flex-end;width: 50%;}#sk-container-id-1 div.sk-parallel-item:last-child::after {align-self: flex-start;width: 50%;}#sk-container-id-1 div.sk-parallel-item:only-child::after {width: 0;}#sk-container-id-1 div.sk-dashed-wrapped {border: 1px dashed gray;margin: 0 0.4em 0.5em 0.4em;box-sizing: border-box;padding-bottom: 0.4em;background-color: white;}#sk-container-id-1 div.sk-label label {font-family: monospace;font-weight: bold;display: inline-block;line-height: 1.2em;}#sk-container-id-1 div.sk-label-container {text-align: center;}#sk-container-id-1 div.sk-container {/* jupyter's `normalize.less` sets `[hidden] { display: none; }` but bootstrap.min.css set `[hidden] { display: none !important; }` so we also need the `!important` here to be able to override the default hidden behavior on the sphinx rendered scikit-learn.org. See: https://github.com/scikit-learn/scikit-learn/issues/21755 */display: inline-block !important;position: relative;}#sk-container-id-1 div.sk-text-repr-fallback {display: none;}</style><div id=\"sk-container-id-1\" class=\"sk-top-container\"><div class=\"sk-text-repr-fallback\"><pre>LinearSVC()</pre><b>In a Jupyter environment, please rerun this cell to show the HTML representation or trust the notebook. <br />On GitHub, the HTML representation is unable to render, please try loading this page with nbviewer.org.</b></div><div class=\"sk-container\" hidden><div class=\"sk-item\"><div class=\"sk-estimator sk-toggleable\"><input class=\"sk-toggleable__control sk-hidden--visually\" id=\"sk-estimator-id-1\" type=\"checkbox\" checked><label for=\"sk-estimator-id-1\" class=\"sk-toggleable__label sk-toggleable__label-arrow\">LinearSVC</label><div class=\"sk-toggleable__content\"><pre>LinearSVC()</pre></div></div></div></div></div>"
      ],
      "text/plain": [
       "LinearSVC()"
      ]
     },
     "execution_count": 14,
     "metadata": {},
     "output_type": "execute_result"
    }
   ],
   "source": [
    "from sklearn.svm import LinearSVC\n",
    "classifier = LinearSVC()\n",
    "classifier = classifier.fit(train_X, train_labels)\n",
    "LinearSVC(C=1.0, class_weight=None, dual=True, fit_intercept=True,\n",
    "          intercept_scaling=1, loss='squared_hinge', max_iter=1000,\n",
    "          multi_class='ovr', penalty='l2', random_state=None, tol=0.0001,\n",
    "          verbose=0)"
   ]
  },
  {
   "cell_type": "code",
   "execution_count": 15,
   "metadata": {
    "colab": {
     "base_uri": "https://localhost:8080/"
    },
    "id": "-9iHTrsow7No",
    "outputId": "c3247851-bcb3-462e-9c57-0c3f3bdcaa79"
   },
   "outputs": [
    {
     "name": "stdout",
     "output_type": "stream",
     "text": [
      "Accuracy: 93.4042%\n"
     ]
    }
   ],
   "source": [
    "from sklearn.metrics import accuracy_score\n",
    "predicciones = classifier.predict(test_X)\n",
    "accuracy = accuracy_score(test_labels, predicciones)\n",
    "print(f\"Accuracy: {accuracy:.4%}\")"
   ]
  },
  {
   "cell_type": "code",
   "execution_count": 16,
   "metadata": {
    "colab": {
     "base_uri": "https://localhost:8080/"
    },
    "id": "mFvOdj26xnqU",
    "outputId": "248fd9fc-3a53-4ab8-8361-728edc11e003"
   },
   "outputs": [
    {
     "data": {
      "text/plain": [
       "array([[26593,   948],\n",
       "       [ 2279, 19105]], dtype=int64)"
      ]
     },
     "execution_count": 16,
     "metadata": {},
     "output_type": "execute_result"
    }
   ],
   "source": [
    "# Se genera la matriz de confusión\n",
    "confusion_matrix(test_labels, predicciones)"
   ]
  },
  {
   "cell_type": "code",
   "execution_count": 17,
   "metadata": {
    "colab": {
     "base_uri": "https://localhost:8080/",
     "height": 334
    },
    "id": "aPmUJOk8xnqU",
    "outputId": "775f84da-b54a-47c4-ff29-db66d137160c"
   },
   "outputs": [
    {
     "name": "stderr",
     "output_type": "stream",
     "text": [
      "C:\\Users\\usuario\\AppData\\Roaming\\Python\\Python39\\site-packages\\sklearn\\utils\\deprecation.py:87: FutureWarning: Function plot_confusion_matrix is deprecated; Function `plot_confusion_matrix` is deprecated in 1.0 and will be removed in 1.2. Use one of the class methods: ConfusionMatrixDisplay.from_predictions or ConfusionMatrixDisplay.from_estimator.\n",
      "  warnings.warn(msg, category=FutureWarning)\n"
     ]
    },
    {
     "data": {
      "image/png": "[encoded data removed]",
      "text/plain": [
       "<Figure size 432x288 with 2 Axes>"
      ]
     },
     "metadata": {
      "needs_background": "light"
     },
     "output_type": "display_data"
    }
   ],
   "source": [
    "# Se puede visualizar la matriz de confusión\n",
    "plot_confusion_matrix(classifier, test_X, test_labels)  \n",
    "plt.show()"
   ]
  },
  {
   "cell_type": "code",
   "execution_count": 18,
   "metadata": {
    "colab": {
     "base_uri": "https://localhost:8080/",
     "height": 554
    },
    "id": "fUc64eooxnqV",
    "outputId": "24da7d58-a326-4d05-85aa-5e3ed2f5c93e"
   },
   "outputs": [
    {
     "name": "stdout",
     "output_type": "stream",
     "text": [
      "              precision    recall  f1-score   support\n",
      "\n",
      " non-suicide       0.92      0.97      0.94     27541\n",
      "     suicide       0.95      0.89      0.92     21384\n",
      "\n",
      "    accuracy                           0.93     48925\n",
      "   macro avg       0.94      0.93      0.93     48925\n",
      "weighted avg       0.93      0.93      0.93     48925\n",
      "\n",
      "Exactitud: 0.93\n"
     ]
    }
   ],
   "source": [
    "# Mostrar reporte de clasificación\n",
    "\n",
    "print(classification_report(test_labels, predicciones))\n",
    "print('Exactitud: %.2f' % accuracy_score(test_labels, predicciones))\n",
    "#print(\"Recall: {}\".format(recall_score(real_vectorizer.transform(test_labels), predicciones)))\n",
    "#print(\"Precisión: {}\".format(precision_score(real_vectorizer.fit_transform(test_labels), predicciones)))\n",
    "#print(\"Puntuación F1: {}\".format(f1_score(real_vectorizer.fit_transform(test_labels), predicciones)))"
   ]
  },
  {
   "cell_type": "markdown",
   "metadata": {
    "id": "HQ1zOml8xHwP"
   },
   "source": [
    "## Clasificacion de textos"
   ]
  },
  {
   "cell_type": "code",
   "execution_count": 19,
   "metadata": {
    "id": "uv0dygmDylaD"
   },
   "outputs": [],
   "source": [
    "df_test=pd.read_csv('SuicidiosProyectoSinEtiqueta.csv', sep=',', decimal=',', encoding = 'utf-8', index_col=0)"
   ]
  },
  {
   "cell_type": "code",
   "execution_count": 20,
   "metadata": {
    "colab": {
     "base_uri": "https://localhost:8080/"
    },
    "id": "fXOxpZtbylaE",
    "outputId": "4ec45286-498b-44bd-fb8d-4ad38aaf782f"
   },
   "outputs": [
    {
     "data": {
      "text/plain": [
       "(10300, 1)"
      ]
     },
     "execution_count": 20,
     "metadata": {},
     "output_type": "execute_result"
    }
   ],
   "source": [
    "df_test.shape"
   ]
  },
  {
   "cell_type": "code",
   "execution_count": 21,
   "metadata": {
    "colab": {
     "base_uri": "https://localhost:8080/",
     "height": 238
    },
    "id": "SvfRavRaylaE",
    "outputId": "4bbd93b3-e7f1-466f-9af0-f7f3979c76e2"
   },
   "outputs": [
    {
     "data": {
      "text/html": [
       "<div>\n",
       "<style scoped>\n",
       "    .dataframe tbody tr th:only-of-type {\n",
       "        vertical-align: middle;\n",
       "    }\n",
       "\n",
       "    .dataframe tbody tr th {\n",
       "        vertical-align: top;\n",
       "    }\n",
       "\n",
       "    .dataframe thead th {\n",
       "        text-align: right;\n",
       "    }\n",
       "</style>\n",
       "<table border=\"1\" class=\"dataframe\">\n",
       "  <thead>\n",
       "    <tr style=\"text-align: right;\">\n",
       "      <th></th>\n",
       "      <th>text</th>\n",
       "    </tr>\n",
       "    <tr>\n",
       "      <th>Unnamed: 0</th>\n",
       "      <th></th>\n",
       "    </tr>\n",
       "  </thead>\n",
       "  <tbody>\n",
       "    <tr>\n",
       "      <th>66529</th>\n",
       "      <td>Suicide Thoughts Getting StrongerOK, since the...</td>\n",
       "    </tr>\n",
       "    <tr>\n",
       "      <th>293637</th>\n",
       "      <td>Guys, I just asked my crush... if she wanted t...</td>\n",
       "    </tr>\n",
       "    <tr>\n",
       "      <th>198884</th>\n",
       "      <td>I'm going to kill myselfOf course I'm not but ...</td>\n",
       "    </tr>\n",
       "    <tr>\n",
       "      <th>186897</th>\n",
       "      <td>I did it! I slept facing the wall.\\n\\nOverall ...</td>\n",
       "    </tr>\n",
       "    <tr>\n",
       "      <th>89024</th>\n",
       "      <td>I don't want to be dead...I want to be alive a...</td>\n",
       "    </tr>\n",
       "  </tbody>\n",
       "</table>\n",
       "</div>"
      ],
      "text/plain": [
       "                                                         text\n",
       "Unnamed: 0                                                   \n",
       "66529       Suicide Thoughts Getting StrongerOK, since the...\n",
       "293637      Guys, I just asked my crush... if she wanted t...\n",
       "198884      I'm going to kill myselfOf course I'm not but ...\n",
       "186897      I did it! I slept facing the wall.\\n\\nOverall ...\n",
       "89024       I don't want to be dead...I want to be alive a..."
      ]
     },
     "execution_count": 21,
     "metadata": {},
     "output_type": "execute_result"
    }
   ],
   "source": [
    "df_test.head()"
   ]
  },
  {
   "cell_type": "code",
   "execution_count": 22,
   "metadata": {
    "colab": {
     "base_uri": "https://localhost:8080/"
    },
    "id": "kh-ynfVlylaF",
    "outputId": "1922ccd2-4cfb-43f8-c9f6-0259249e8d91"
   },
   "outputs": [
    {
     "name": "stdout",
     "output_type": "stream",
     "text": [
      "<class 'pandas.core.frame.DataFrame'>\n",
      "Int64Index: 10300 entries, 66529 to 20052\n",
      "Data columns (total 1 columns):\n",
      " #   Column  Non-Null Count  Dtype \n",
      "---  ------  --------------  ----- \n",
      " 0   text    10300 non-null  object\n",
      "dtypes: object(1)\n",
      "memory usage: 160.9+ KB\n"
     ]
    }
   ],
   "source": [
    "df_test.info()"
   ]
  },
  {
   "cell_type": "markdown",
   "metadata": {
    "id": "pGl5zc23y_vb"
   },
   "source": [
    "### Clasificacion"
   ]
  },
  {
   "cell_type": "code",
   "execution_count": 23,
   "metadata": {
    "id": "AsIWjbjAzObu"
   },
   "outputs": [],
   "source": [
    "frases_X = real_vectorizer.transform(df_test[\"text\"])\n",
    "predicciones = classifier.predict(frases_X)"
   ]
  },
  {
   "cell_type": "code",
   "execution_count": 28,
   "metadata": {
    "colab": {
     "base_uri": "https://localhost:8080/"
    },
    "id": "z_uCaYFWzkrO",
    "outputId": "2af90159-889e-484d-a411-4e3bb512fa82"
   },
   "outputs": [
    {
     "ename": "SyntaxError",
     "evalue": "invalid syntax (3175217531.py, line 6)",
     "output_type": "error",
     "traceback": [
      "\u001b[1;36m  Input \u001b[1;32mIn [28]\u001b[1;36m\u001b[0m\n\u001b[1;33m    count++\u001b[0m\n\u001b[1;37m           ^\u001b[0m\n\u001b[1;31mSyntaxError\u001b[0m\u001b[1;31m:\u001b[0m invalid syntax\n"
     ]
    }
   ],
   "source": [
    "count = 0\n",
    "\n",
    "for text, label in zip(df_test[\"text\"],predicciones):\n",
    "    if(count < 10):\n",
    "        print(f\"{label:5} - {text}\")\n",
    "        ++count\n",
    "\n",
    "#text = df_test[\"text\"]\n",
    "#label = predicciones\n",
    "#for i in range(5):\n",
    "#    print(f\"{label[i]:5} - {text[i]}\")\n",
    "#predicciones.to_csv('predicciones.csv')\n",
    "##savetxt('datos.csv',predicciones)"
   ]
  },
  {
   "cell_type": "markdown",
   "metadata": {
    "id": "T-dXiEThxnqY"
   },
   "source": [
    "## Random Forest"
   ]
  },
  {
   "cell_type": "code",
   "execution_count": null,
   "metadata": {
    "colab": {
     "base_uri": "https://localhost:8080/"
    },
    "id": "71xXRDOFxnqY",
    "outputId": "50a1a465-8d68-4947-968f-d92b97fb046e"
   },
   "outputs": [],
   "source": [
    "from sklearn.ensemble import RandomForestClassifier\n",
    "\n",
    "\n",
    "clf = RandomForestClassifier()\n",
    "clf.fit(train_X, train_labels)"
   ]
  },
  {
   "cell_type": "code",
   "execution_count": null,
   "metadata": {
    "colab": {
     "base_uri": "https://localhost:8080/"
    },
    "id": "BKXo-KGJxnqY",
    "outputId": "db8da19b-85c6-4c15-8ec6-dceb070ee951"
   },
   "outputs": [],
   "source": [
    "from sklearn.metrics import accuracy_score\n",
    "predicciones = clf.predict(test_X)\n",
    "accuracy = accuracy_score(test_labels, predicciones)\n",
    "print(f\"Accuracy: {accuracy:.4%}\")"
   ]
  },
  {
   "cell_type": "code",
   "execution_count": null,
   "metadata": {
    "colab": {
     "base_uri": "https://localhost:8080/"
    },
    "id": "ikPJYaFV7qF3",
    "outputId": "0864a1cf-e872-4cd0-fde6-acc2123f5ae9"
   },
   "outputs": [],
   "source": [
    "# Se genera la matriz de confusión\n",
    "confusion_matrix(test_labels, predicciones)"
   ]
  },
  {
   "cell_type": "code",
   "execution_count": null,
   "metadata": {
    "colab": {
     "base_uri": "https://localhost:8080/",
     "height": 340
    },
    "id": "rAniYdoq7qF3",
    "outputId": "926af0b0-b6e7-4087-8d0d-bc616e7bdacd"
   },
   "outputs": [],
   "source": [
    "# Se puede visualizar la matriz de confusión\n",
    "plot_confusion_matrix(clf, test_X, test_labels)  \n",
    "plt.show()"
   ]
  },
  {
   "cell_type": "code",
   "execution_count": null,
   "metadata": {
    "colab": {
     "base_uri": "https://localhost:8080/",
     "height": 554
    },
    "id": "XhF4W_IH7qF4",
    "outputId": "6bb1b840-29d0-46e3-b042-4459ca9e353e"
   },
   "outputs": [],
   "source": [
    "# Mostrar reporte de clasificación\n",
    "print(classification_report(test_labels, predicciones))\n",
    "print('Exactitud: %.2f' % accuracy_score(test_labels, predicciones))\n",
    "print(\"Recall: {}\".format(recall_score(real_vectorizer.transform(test_labels), predicciones)))\n",
    "print(\"Precisión: {}\".format(precision_score(real_vectorizer.fit_transform(test_labels), predicciones)))\n",
    "print(\"Puntuación F1: {}\".format(f1_score(real_vectorizer.fit_transform(test_labels), predicciones)))"
   ]
  },
  {
   "cell_type": "code",
   "execution_count": null,
   "metadata": {
    "id": "cWODzyxm7op_"
   },
   "outputs": [],
   "source": []
  },
  {
   "cell_type": "markdown",
   "metadata": {
    "id": "dd6ZaLZaxnqY"
   },
   "source": [
    "## Naive Bayers"
   ]
  },
  {
   "cell_type": "code",
   "execution_count": null,
   "metadata": {
    "id": "sAVmAbjytn1G"
   },
   "outputs": [],
   "source": [
    "from sklearn.feature_extraction.text import TfidfVectorizer\n",
    "from sklearn.naive_bayes import MultinomialNB\n",
    "from sklearn.pipeline import make_pipeline\n",
    "from sklearn.metrics import confusion_matrix, accuracy_score\n",
    "sns.set() # use seaborn plotting style"
   ]
  },
  {
   "cell_type": "code",
   "execution_count": null,
   "metadata": {
    "id": "cuOr7DaF0g74"
   },
   "outputs": [],
   "source": [
    "# Model building\n",
    "model = make_pipeline(TfidfVectorizer(), MultinomialNB())\n",
    "# Training the model with the training data\n",
    "model.fit(train_text, train_labels)\n",
    "# Predicting the test data categories\n",
    "predicted_categories = model.predict(train_text)"
   ]
  },
  {
   "cell_type": "code",
   "execution_count": null,
   "metadata": {
    "colab": {
     "base_uri": "https://localhost:8080/"
    },
    "id": "r9xR3GcM2Ehf",
    "outputId": "6a5b70cd-c8e3-4d46-d85a-5d277781a015"
   },
   "outputs": [],
   "source": [
    "accuracy = accuracy_score(train_labels, predicted_categories)\n",
    "print(f\"Train accuracy: {accuracy:.4%}\")"
   ]
  },
  {
   "cell_type": "code",
   "execution_count": null,
   "metadata": {
    "id": "Zwxrp1mO3QWL"
   },
   "outputs": [],
   "source": [
    "predicted_test = model.predict(test_text)"
   ]
  },
  {
   "cell_type": "code",
   "execution_count": null,
   "metadata": {
    "colab": {
     "base_uri": "https://localhost:8080/"
    },
    "id": "Ld3uN8Jo3bsP",
    "outputId": "7d62a139-4a73-4117-ad64-6b8f3a70e551"
   },
   "outputs": [],
   "source": [
    "accuracy = accuracy_score(test_labels, predicted_test)\n",
    "print(f\"Test accuracy: {accuracy:.4%}\")"
   ]
  },
  {
   "cell_type": "code",
   "execution_count": null,
   "metadata": {
    "colab": {
     "base_uri": "https://localhost:8080/"
    },
    "id": "D1ZcovlM7wi_",
    "outputId": "17d8f55b-b341-4ba9-d619-a155f4514e20"
   },
   "outputs": [],
   "source": [
    "# Se genera la matriz de confusión\n",
    "confusion_matrix(test_labels, predicted_test)"
   ]
  },
  {
   "cell_type": "code",
   "execution_count": null,
   "metadata": {
    "colab": {
     "base_uri": "https://localhost:8080/",
     "height": 340
    },
    "id": "Cncy_NIW7wi_",
    "outputId": "da56ccda-e6ba-4d9e-aa90-5756f6939dbb"
   },
   "outputs": [],
   "source": [
    "# Se puede visualizar la matriz de confusión\n",
    "plot_confusion_matrix(model, test_text, test_labels)  \n",
    "plt.show()"
   ]
  },
  {
   "cell_type": "code",
   "execution_count": null,
   "metadata": {
    "colab": {
     "base_uri": "https://localhost:8080/",
     "height": 554
    },
    "id": "NKDpKRy-7wjA",
    "outputId": "1927f15f-7af0-42c0-8878-5f4a39bfd5b5"
   },
   "outputs": [],
   "source": [
    "# Mostrar reporte de clasificación\n",
    "print(classification_report(test_labels, predicted_test))\n",
    "print('Exactitud: %.4f' % accuracy_score(test_labels, predicted_test))\n",
    "print(\"Recall: {}\".format(recall_score(real_vectorizer.transform(test_labels), predicted_test)))\n",
    "print(\"Precisión: {}\".format(precision_score(real_vectorizer.fit_transform(test_labels), predicted_test)))\n",
    "print(\"Puntuación F1: {}\".format(f1_score(real_vectorizer.fit_transform(test_labels), predicted_test)))"
   ]
  }
 ],
 "metadata": {
  "colab": {
   "provenance": []
  },
  "kernelspec": {
   "display_name": "Python 3 (ipykernel)",
   "language": "python",
   "name": "python3"
  },
  "language_info": {
   "codemirror_mode": {
    "name": "ipython",
    "version": 3
   },
   "file_extension": ".py",
   "mimetype": "text/x-python",
   "name": "python",
   "nbconvert_exporter": "python",
   "pygments_lexer": "ipython3",
   "version": "3.9.12"
  },
  "vscode": {
   "interpreter": {
    "hash": "7f6291db5c7a6efb2edabe7a0ea66ae856b87f97cdeaaed60bb37a1c3bd6772a"
   }
  }
 },
 "nbformat": 4,
 "nbformat_minor": 4
}
