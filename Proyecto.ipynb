{
  "cells": [
    {
      "cell_type": "markdown",
      "metadata": {
        "id": "xfLBFOycqSzw"
      },
      "source": [
        "# Proyecto 1"
      ]
    },
    {
      "cell_type": "markdown",
      "metadata": {
        "id": "nJNT8mpPqWp3"
      },
      "source": [
        "## Integrantes\n",
        "\n",
        "* Maria Paula Gonzalez Escallon \n",
        "* Jessica Alejandra Robles Moreno\n",
        "* Juan Esteban Vergara Ascencio"
      ]
    },
    {
      "cell_type": "markdown",
      "metadata": {
        "id": "v7XWcRaCqttj"
      },
      "source": [
        "## Importar"
      ]
    },
    {
      "cell_type": "code",
      "execution_count": 1,
      "metadata": {
        "id": "JOMXUuR3qgIO"
      },
      "outputs": [],
      "source": [
        "# Librerías para manejo de datos\n",
        "import pandas as pd\n",
        "pd.set_option('display.max_columns', 25) # Número máximo de columnas a mostrar\n",
        "pd.set_option('display.max_rows', 50) # Numero máximo de filas a mostar\n",
        "import numpy as np\n",
        "np.random.seed(3301)\n",
        "import pandas as pd\n",
        "# Para preparar los datos\n",
        "from sklearn.preprocessing import LabelEncoder\n",
        "\n",
        "from sklearn.feature_extraction.text import CountVectorizer\n",
        "from sklearn.svm import LinearSVC\n",
        "# Para realizar la separación del conjunto de aprendizaje en entrenamiento y test.\n",
        "from sklearn.model_selection import train_test_split\n",
        "# Para evaluar el modelo\n",
        "from sklearn.metrics import confusion_matrix, classification_report, precision_score, recall_score, f1_score, accuracy_score\n",
        "from sklearn.metrics import plot_confusion_matrix\n",
        "# Para búsqueda de hiperparámetros\n",
        "from sklearn.model_selection import GridSearchCV\n",
        "\n",
        "from sklearn.feature_extraction.text import TfidfVectorizer\n",
        "from sklearn.feature_extraction.text import TfidfTransformer\n",
        "from sklearn.naive_bayes import MultinomialNB\n",
        "from sklearn.pipeline import make_pipeline\n",
        "from sklearn.pipeline import Pipeline\n",
        "from sklearn.metrics import confusion_matrix, accuracy_score\n",
        "from sklearn.linear_model import SGDClassifier\n",
        "\n",
        "#Librerías para la visualización\n",
        "import matplotlib.pyplot as plt\n",
        "# Seaborn\n",
        "import seaborn as sns \n",
        "from sklearn import tree"
      ]
    },
    {
      "cell_type": "markdown",
      "metadata": {
        "id": "ILsXT537q-Py"
      },
      "source": [
        "## Carga de Datos"
      ]
    },
    {
      "cell_type": "code",
      "execution_count": 2,
      "metadata": {
        "id": "OjLUmsAsrI3X"
      },
      "outputs": [],
      "source": [
        "df_info=pd.read_csv('SuicidiosProyecto.csv', sep=',', decimal=',', encoding = 'utf-8', index_col=0)"
      ]
    },
    {
      "cell_type": "code",
      "execution_count": 3,
      "metadata": {
        "colab": {
          "base_uri": "https://localhost:8080/"
        },
        "id": "f1bc26f7-8b09-4d10-b97d-20ffd39f3a9c",
        "outputId": "8c1f53bb-f038-45f1-b154-cc6f615c355b"
      },
      "outputs": [
        {
          "data": {
            "text/plain": [
              "(195700, 2)"
            ]
          },
          "execution_count": 3,
          "metadata": {},
          "output_type": "execute_result"
        }
      ],
      "source": [
        "df_info.shape"
      ]
    },
    {
      "cell_type": "code",
      "execution_count": 4,
      "metadata": {
        "colab": {
          "base_uri": "https://localhost:8080/",
          "height": 238
        },
        "id": "15eb91d4-8982-44b4-8942-8fd529409984",
        "outputId": "df58739a-e6d1-42b0-f786-c2aa467d4c5d"
      },
      "outputs": [
        {
          "data": {
            "text/html": [
              "<div>\n",
              "<style scoped>\n",
              "    .dataframe tbody tr th:only-of-type {\n",
              "        vertical-align: middle;\n",
              "    }\n",
              "\n",
              "    .dataframe tbody tr th {\n",
              "        vertical-align: top;\n",
              "    }\n",
              "\n",
              "    .dataframe thead th {\n",
              "        text-align: right;\n",
              "    }\n",
              "</style>\n",
              "<table border=\"1\" class=\"dataframe\">\n",
              "  <thead>\n",
              "    <tr style=\"text-align: right;\">\n",
              "      <th></th>\n",
              "      <th>text</th>\n",
              "      <th>class</th>\n",
              "    </tr>\n",
              "    <tr>\n",
              "      <th>Unnamed: 0</th>\n",
              "      <th></th>\n",
              "      <th></th>\n",
              "    </tr>\n",
              "  </thead>\n",
              "  <tbody>\n",
              "    <tr>\n",
              "      <th>173271</th>\n",
              "      <td>i want to destroy myselffor once everything wa...</td>\n",
              "      <td>suicide</td>\n",
              "    </tr>\n",
              "    <tr>\n",
              "      <th>336321</th>\n",
              "      <td>I kinda got behind schedule with learning for ...</td>\n",
              "      <td>non-suicide</td>\n",
              "    </tr>\n",
              "    <tr>\n",
              "      <th>256637</th>\n",
              "      <td>I'm just not sure anymoreFirst and foremost: I...</td>\n",
              "      <td>suicide</td>\n",
              "    </tr>\n",
              "    <tr>\n",
              "      <th>303772</th>\n",
              "      <td>please give me a reason to liveThats too much ...</td>\n",
              "      <td>suicide</td>\n",
              "    </tr>\n",
              "    <tr>\n",
              "      <th>293747</th>\n",
              "      <td>27f struggling to find meaning moving forwardI...</td>\n",
              "      <td>suicide</td>\n",
              "    </tr>\n",
              "  </tbody>\n",
              "</table>\n",
              "</div>"
            ],
            "text/plain": [
              "                                                         text        class\n",
              "Unnamed: 0                                                                \n",
              "173271      i want to destroy myselffor once everything wa...      suicide\n",
              "336321      I kinda got behind schedule with learning for ...  non-suicide\n",
              "256637      I'm just not sure anymoreFirst and foremost: I...      suicide\n",
              "303772      please give me a reason to liveThats too much ...      suicide\n",
              "293747      27f struggling to find meaning moving forwardI...      suicide"
            ]
          },
          "execution_count": 4,
          "metadata": {},
          "output_type": "execute_result"
        }
      ],
      "source": [
        "df_info.head()"
      ]
    },
    {
      "cell_type": "code",
      "execution_count": 5,
      "metadata": {
        "colab": {
          "base_uri": "https://localhost:8080/"
        },
        "id": "1ad8890f-d30b-432f-a95b-6aff13624977",
        "outputId": "c3ae1d35-a92e-4fae-a9e3-2bacd7830b3e"
      },
      "outputs": [
        {
          "name": "stdout",
          "output_type": "stream",
          "text": [
            "<class 'pandas.core.frame.DataFrame'>\n",
            "Int64Index: 195700 entries, 173271 to 305170\n",
            "Data columns (total 2 columns):\n",
            " #   Column  Non-Null Count   Dtype \n",
            "---  ------  --------------   ----- \n",
            " 0   text    195700 non-null  object\n",
            " 1   class   195700 non-null  object\n",
            "dtypes: object(2)\n",
            "memory usage: 4.5+ MB\n"
          ]
        }
      ],
      "source": [
        "df_info.info()"
      ]
    },
    {
      "cell_type": "code",
      "execution_count": 6,
      "metadata": {
        "colab": {
          "base_uri": "https://localhost:8080/"
        },
        "id": "7A2GViX_uj1K",
        "outputId": "5b4fd99d-73eb-4401-aed4-45a77b43c058"
      },
      "outputs": [
        {
          "data": {
            "text/plain": [
              "non-suicide    110165\n",
              "suicide         85535\n",
              "Name: class, dtype: int64"
            ]
          },
          "execution_count": 6,
          "metadata": {},
          "output_type": "execute_result"
        }
      ],
      "source": [
        "df_info[\"class\"].value_counts()"
      ]
    },
    {
      "cell_type": "markdown",
      "metadata": {
        "id": "zF4fxAw5uZDB"
      },
      "source": [
        "## Limpieza de datos"
      ]
    },
    {
      "cell_type": "code",
      "execution_count": 7,
      "metadata": {
        "id": "scCYNtu_KyyQ"
      },
      "outputs": [],
      "source": [
        "df_copia=df_info.copy()"
      ]
    },
    {
      "cell_type": "code",
      "execution_count": 8,
      "metadata": {
        "id": "pcNELEXrKkEh"
      },
      "outputs": [],
      "source": [
        "def remove_punctuation(words):\n",
        "    \n",
        "    a_string = words\n",
        "    new_words  = a_string.replace('.', '')\n",
        "    new_words = new_words.replace(':','')\n",
        "    new_words = new_words.replace(',','')\n",
        "    new_words = new_words.replace(';','')\n",
        "    new_words = new_words.replace(\"'\",'')\n",
        "    #new_words = new_words.replace('filler','')\n",
        "    new_words = new_words.lower()\n",
        "    return new_words\n",
        "\n",
        "\n",
        "def preprocessing(words):\n",
        "    words = remove_punctuation(words)\n",
        "    return words"
      ]
    },
    {
      "cell_type": "code",
      "execution_count": 9,
      "metadata": {
        "id": "8wMmQ_Pmusce"
      },
      "outputs": [],
      "source": [
        "import string\n",
        "punctuation = set(string.punctuation)\n",
        "def tokenize(sentence):\n",
        "    tokens = []\n",
        "    for token in sentence.split():\n",
        "        new_token = []\n",
        "        for character in token:\n",
        "            if character not in punctuation:\n",
        "                new_token.append(character.lower())\n",
        "        if new_token:\n",
        "            tokens.append(\"\".join(new_token))\n",
        "    return tokens"
      ]
    },
    {
      "cell_type": "code",
      "execution_count": 10,
      "metadata": {
        "id": "6D9-S0ZcKpxB"
      },
      "outputs": [],
      "source": [
        "df_copia[\"text\"]=df_copia[\"text\"].apply(preprocessing)"
      ]
    },
    {
      "cell_type": "code",
      "execution_count": 11,
      "metadata": {
        "colab": {
          "base_uri": "https://localhost:8080/",
          "height": 238
        },
        "id": "iWS1JACuu42V",
        "outputId": "eec70b69-21a8-4d1f-f0e8-d5b18b23dc54"
      },
      "outputs": [
        {
          "data": {
            "text/html": [
              "<div>\n",
              "<style scoped>\n",
              "    .dataframe tbody tr th:only-of-type {\n",
              "        vertical-align: middle;\n",
              "    }\n",
              "\n",
              "    .dataframe tbody tr th {\n",
              "        vertical-align: top;\n",
              "    }\n",
              "\n",
              "    .dataframe thead th {\n",
              "        text-align: right;\n",
              "    }\n",
              "</style>\n",
              "<table border=\"1\" class=\"dataframe\">\n",
              "  <thead>\n",
              "    <tr style=\"text-align: right;\">\n",
              "      <th></th>\n",
              "      <th>text</th>\n",
              "      <th>class</th>\n",
              "    </tr>\n",
              "    <tr>\n",
              "      <th>Unnamed: 0</th>\n",
              "      <th></th>\n",
              "      <th></th>\n",
              "    </tr>\n",
              "  </thead>\n",
              "  <tbody>\n",
              "    <tr>\n",
              "      <th>173271</th>\n",
              "      <td>i want to destroy myselffor once everything wa...</td>\n",
              "      <td>suicide</td>\n",
              "    </tr>\n",
              "    <tr>\n",
              "      <th>336321</th>\n",
              "      <td>i kinda got behind schedule with learning for ...</td>\n",
              "      <td>non-suicide</td>\n",
              "    </tr>\n",
              "    <tr>\n",
              "      <th>256637</th>\n",
              "      <td>im just not sure anymorefirst and foremost im ...</td>\n",
              "      <td>suicide</td>\n",
              "    </tr>\n",
              "    <tr>\n",
              "      <th>303772</th>\n",
              "      <td>please give me a reason to livethats too much ...</td>\n",
              "      <td>suicide</td>\n",
              "    </tr>\n",
              "    <tr>\n",
              "      <th>293747</th>\n",
              "      <td>27f struggling to find meaning moving forwardi...</td>\n",
              "      <td>suicide</td>\n",
              "    </tr>\n",
              "  </tbody>\n",
              "</table>\n",
              "</div>"
            ],
            "text/plain": [
              "                                                         text        class\n",
              "Unnamed: 0                                                                \n",
              "173271      i want to destroy myselffor once everything wa...      suicide\n",
              "336321      i kinda got behind schedule with learning for ...  non-suicide\n",
              "256637      im just not sure anymorefirst and foremost im ...      suicide\n",
              "303772      please give me a reason to livethats too much ...      suicide\n",
              "293747      27f struggling to find meaning moving forwardi...      suicide"
            ]
          },
          "execution_count": 11,
          "metadata": {},
          "output_type": "execute_result"
        }
      ],
      "source": [
        "df_copia.head()"
      ]
    },
    {
      "cell_type": "markdown",
      "metadata": {
        "id": "l22ibw4sdzHz"
      },
      "source": [
        "## Sin limpieza"
      ]
    },
    {
      "cell_type": "code",
      "execution_count": 12,
      "metadata": {
        "colab": {
          "base_uri": "https://localhost:8080/"
        },
        "id": "C_rsT_MqwMbk",
        "outputId": "27a2ff08-9555-4c78-9772-2217d7f689ed"
      },
      "outputs": [
        {
          "name": "stdout",
          "output_type": "stream",
          "text": [
            "Training examples: 146775, testing examples 48925\n"
          ]
        }
      ],
      "source": [
        "train_text, test_text, train_labels, test_labels = train_test_split(df_info[\"text\"], df_info[\"class\"], stratify=df_info[\"class\"])\n",
        "print(f\"Training examples: {len(train_text)}, testing examples {len(test_text)}\")"
      ]
    },
    {
      "cell_type": "code",
      "execution_count": 13,
      "metadata": {
        "id": "QRM65JmMwcTi"
      },
      "outputs": [],
      "source": [
        "real_vectorizer = CountVectorizer(tokenizer = tokenize, binary=True)\n",
        "train_X = real_vectorizer.fit_transform(train_text)\n",
        "test_X = real_vectorizer.transform(test_text)"
      ]
    },
    {
      "cell_type": "markdown",
      "metadata": {
        "id": "LEjBeVUueEEb"
      },
      "source": [
        "### LinearSVC"
      ]
    },
    {
      "cell_type": "code",
      "execution_count": 14,
      "metadata": {
        "colab": {
          "base_uri": "https://localhost:8080/"
        },
        "id": "3YqcD6jawddi",
        "outputId": "b3050bd4-8674-4658-a8bd-019e8fb4c0ab"
      },
      "outputs": [
        {
          "name": "stderr",
          "output_type": "stream",
          "text": [
            "/Users/mau/opt/anaconda3/lib/python3.9/site-packages/sklearn/svm/_base.py:1206: ConvergenceWarning: Liblinear failed to converge, increase the number of iterations.\n",
            "  warnings.warn(\n"
          ]
        },
        {
          "data": {
            "text/plain": [
              "LinearSVC()"
            ]
          },
          "execution_count": 14,
          "metadata": {},
          "output_type": "execute_result"
        }
      ],
      "source": [
        "classifier = LinearSVC()\n",
        "classifier = classifier.fit(train_X, train_labels)\n",
        "LinearSVC(C=1.0, class_weight=None, dual=True, fit_intercept=True,\n",
        "          intercept_scaling=1, loss='squared_hinge', max_iter=1000,\n",
        "          multi_class='ovr', penalty='l2', random_state=None, tol=0.0001,\n",
        "          verbose=0)"
      ]
    },
    {
      "cell_type": "code",
      "execution_count": 15,
      "metadata": {
        "colab": {
          "base_uri": "https://localhost:8080/"
        },
        "id": "9R5mxgMeE8c5",
        "outputId": "822d5cf6-4b49-4882-ace9-88a6a15d48b9"
      },
      "outputs": [
        {
          "name": "stdout",
          "output_type": "stream",
          "text": [
            "Train accuracy: 99.7200%\n"
          ]
        }
      ],
      "source": [
        "predicciones_train = classifier.predict(train_X)\n",
        "accuracy = accuracy_score(train_labels, predicciones_train)\n",
        "print(f\"Train accuracy: {accuracy:.4%}\")"
      ]
    },
    {
      "cell_type": "code",
      "execution_count": 16,
      "metadata": {
        "colab": {
          "base_uri": "https://localhost:8080/"
        },
        "id": "jP8WtjytEZW9",
        "outputId": "02a19930-cdf9-4330-a7be-13fbe3338ffd"
      },
      "outputs": [
        {
          "name": "stdout",
          "output_type": "stream",
          "text": [
            "Test accuracy: 93.4410%\n"
          ]
        }
      ],
      "source": [
        "predicciones_test = classifier.predict(test_X)\n",
        "accuracy = accuracy_score(test_labels, predicciones_test)\n",
        "print(f\"Test accuracy: {accuracy:.4%}\")"
      ]
    },
    {
      "cell_type": "code",
      "execution_count": 17,
      "metadata": {
        "colab": {
          "base_uri": "https://localhost:8080/"
        },
        "id": "mFvOdj26xnqU",
        "outputId": "514be3d8-a76d-49ba-899b-990d77dfda2b"
      },
      "outputs": [
        {
          "data": {
            "text/plain": [
              "array([[26589,   952],\n",
              "       [ 2257, 19127]])"
            ]
          },
          "execution_count": 17,
          "metadata": {},
          "output_type": "execute_result"
        }
      ],
      "source": [
        "# Se genera la matriz de confusión\n",
        "confusion_matrix(test_labels, predicciones_test)"
      ]
    },
    {
      "cell_type": "code",
      "execution_count": 18,
      "metadata": {
        "colab": {
          "base_uri": "https://localhost:8080/",
          "height": 334
        },
        "id": "aPmUJOk8xnqU",
        "outputId": "70ff39fc-6b82-43f7-b197-d324d0628dc4"
      },
      "outputs": [
        {
          "name": "stderr",
          "output_type": "stream",
          "text": [
            "/Users/mau/opt/anaconda3/lib/python3.9/site-packages/sklearn/utils/deprecation.py:87: FutureWarning: Function plot_confusion_matrix is deprecated; Function `plot_confusion_matrix` is deprecated in 1.0 and will be removed in 1.2. Use one of the class methods: ConfusionMatrixDisplay.from_predictions or ConfusionMatrixDisplay.from_estimator.\n",
            "  warnings.warn(msg, category=FutureWarning)\n"
          ]
        },
        {
          "data": {
            "image/png": "[encoded data removed]",
            "text/plain": [
              "<Figure size 432x288 with 2 Axes>"
            ]
          },
          "metadata": {
            "needs_background": "light"
          },
          "output_type": "display_data"
        }
      ],
      "source": [
        "# Se puede visualizar la matriz de confusión\n",
        "plot_confusion_matrix(classifier, test_X, test_labels)  \n",
        "plt.show()"
      ]
    },
    {
      "cell_type": "code",
      "execution_count": 19,
      "metadata": {
        "colab": {
          "base_uri": "https://localhost:8080/"
        },
        "id": "fUc64eooxnqV",
        "outputId": "9c45294d-5512-409e-92b1-2888df5a10ff"
      },
      "outputs": [
        {
          "name": "stdout",
          "output_type": "stream",
          "text": [
            "              precision    recall  f1-score   support\n",
            "\n",
            " non-suicide       0.92      0.97      0.94     27541\n",
            "     suicide       0.95      0.89      0.92     21384\n",
            "\n",
            "    accuracy                           0.93     48925\n",
            "   macro avg       0.94      0.93      0.93     48925\n",
            "weighted avg       0.94      0.93      0.93     48925\n",
            "\n",
            "Exactitud: 0.9344\n"
          ]
        }
      ],
      "source": [
        "# Mostrar reporte de clasificación\n",
        "print(classification_report(test_labels, predicciones_test))\n",
        "print('Exactitud: %.4f' % accuracy_score(test_labels, predicciones_test))"
      ]
    },
    {
      "cell_type": "markdown",
      "metadata": {
        "id": "pw3jfweJeyY3"
      },
      "source": [
        "### Naive Bayers"
      ]
    },
    {
      "cell_type": "markdown",
      "metadata": {
        "id": "g5Sm7FBBe20d"
      },
      "source": [
        "#### Con Pipeline"
      ]
    },
    {
      "cell_type": "code",
      "execution_count": 20,
      "metadata": {
        "id": "cuOr7DaF0g74",
        "outputId": "10b43947-4128-4010-f708-9d640e4973e0"
      },
      "outputs": [
        {
          "data": {
            "text/plain": [
              "Pipeline(steps=[('tfidfvectorizer',\n",
              "                 TfidfVectorizer(binary=True,\n",
              "                                 tokenizer=<function tokenize at 0x7fee6808ee50>)),\n",
              "                ('multinomialnb', MultinomialNB())])"
            ]
          },
          "execution_count": 20,
          "metadata": {},
          "output_type": "execute_result"
        }
      ],
      "source": [
        "# Model building\n",
        "model = make_pipeline(TfidfVectorizer(tokenizer = tokenize, binary=True), MultinomialNB())\n",
        "# Training the model with the training data\n",
        "model.fit(train_text, train_labels)"
      ]
    },
    {
      "cell_type": "code",
      "execution_count": 21,
      "metadata": {
        "colab": {
          "base_uri": "https://localhost:8080/"
        },
        "id": "H6L0XlxbfJnQ",
        "outputId": "822d5cf6-4b49-4882-ace9-88a6a15d48b9"
      },
      "outputs": [
        {
          "name": "stdout",
          "output_type": "stream",
          "text": [
            "Train accuracy: 92.2507%\n"
          ]
        }
      ],
      "source": [
        "predicciones_train = model.predict(train_text)\n",
        "accuracy = accuracy_score(train_labels, predicciones_train)\n",
        "print(f\"Train accuracy: {accuracy:.4%}\")"
      ]
    },
    {
      "cell_type": "code",
      "execution_count": 22,
      "metadata": {
        "colab": {
          "base_uri": "https://localhost:8080/"
        },
        "id": "0VMx94C4fJnh",
        "outputId": "02a19930-cdf9-4330-a7be-13fbe3338ffd"
      },
      "outputs": [
        {
          "name": "stdout",
          "output_type": "stream",
          "text": [
            "Test accuracy: 90.7675%\n"
          ]
        }
      ],
      "source": [
        "predicciones_test = model.predict(test_text)\n",
        "accuracy = accuracy_score(test_labels, predicciones_test)\n",
        "print(f\"Test accuracy: {accuracy:.4%}\")"
      ]
    },
    {
      "cell_type": "markdown",
      "metadata": {
        "id": "FoFxlZcbfScI"
      },
      "source": [
        "#### Sin Pipeline"
      ]
    },
    {
      "cell_type": "code",
      "execution_count": 23,
      "metadata": {
        "id": "9MayJXkOEBNM"
      },
      "outputs": [],
      "source": [
        "classifier2 = MultinomialNB()\n",
        "classifier2 = classifier2.fit(train_X, train_labels)"
      ]
    },
    {
      "cell_type": "code",
      "execution_count": 24,
      "metadata": {
        "colab": {
          "base_uri": "https://localhost:8080/"
        },
        "id": "b9u7Yi7ZfjeE",
        "outputId": "822d5cf6-4b49-4882-ace9-88a6a15d48b9"
      },
      "outputs": [
        {
          "name": "stdout",
          "output_type": "stream",
          "text": [
            "Train accuracy: 93.2625%\n"
          ]
        }
      ],
      "source": [
        "predicciones_train = classifier2.predict(train_X)\n",
        "accuracy = accuracy_score(train_labels, predicciones_train)\n",
        "print(f\"Train accuracy: {accuracy:.4%}\")"
      ]
    },
    {
      "cell_type": "code",
      "execution_count": 25,
      "metadata": {
        "colab": {
          "base_uri": "https://localhost:8080/"
        },
        "id": "a-CZOmwxfjeF",
        "outputId": "02a19930-cdf9-4330-a7be-13fbe3338ffd"
      },
      "outputs": [
        {
          "name": "stdout",
          "output_type": "stream",
          "text": [
            "Test accuracy: 92.3311%\n"
          ]
        }
      ],
      "source": [
        "predicciones_test = classifier2.predict(test_X)\n",
        "accuracy = accuracy_score(test_labels, predicciones_test)\n",
        "print(f\"Test accuracy: {accuracy:.4%}\")"
      ]
    },
    {
      "cell_type": "code",
      "execution_count": 26,
      "metadata": {
        "colab": {
          "base_uri": "https://localhost:8080/"
        },
        "id": "N66c7oxCfu_C",
        "outputId": "514be3d8-a76d-49ba-899b-990d77dfda2b"
      },
      "outputs": [
        {
          "data": {
            "text/plain": [
              "array([[24975,  2566],\n",
              "       [ 1186, 20198]])"
            ]
          },
          "execution_count": 26,
          "metadata": {},
          "output_type": "execute_result"
        }
      ],
      "source": [
        "# Se genera la matriz de confusión\n",
        "confusion_matrix(test_labels, predicciones_test)"
      ]
    },
    {
      "cell_type": "code",
      "execution_count": 27,
      "metadata": {
        "colab": {
          "base_uri": "https://localhost:8080/",
          "height": 334
        },
        "id": "RqH8Zfgqfu_D",
        "outputId": "70ff39fc-6b82-43f7-b197-d324d0628dc4"
      },
      "outputs": [
        {
          "name": "stderr",
          "output_type": "stream",
          "text": [
            "/Users/mau/opt/anaconda3/lib/python3.9/site-packages/sklearn/utils/deprecation.py:87: FutureWarning: Function plot_confusion_matrix is deprecated; Function `plot_confusion_matrix` is deprecated in 1.0 and will be removed in 1.2. Use one of the class methods: ConfusionMatrixDisplay.from_predictions or ConfusionMatrixDisplay.from_estimator.\n",
            "  warnings.warn(msg, category=FutureWarning)\n"
          ]
        },
        {
          "data": {
            "image/png": "[encoded data removed]",
            "text/plain": [
              "<Figure size 432x288 with 2 Axes>"
            ]
          },
          "metadata": {
            "needs_background": "light"
          },
          "output_type": "display_data"
        }
      ],
      "source": [
        "# Se puede visualizar la matriz de confusión\n",
        "plot_confusion_matrix(classifier, test_X, test_labels)  \n",
        "plt.show()"
      ]
    },
    {
      "cell_type": "code",
      "execution_count": 28,
      "metadata": {
        "colab": {
          "base_uri": "https://localhost:8080/"
        },
        "id": "zv4qmIU8fu_D",
        "outputId": "9c45294d-5512-409e-92b1-2888df5a10ff"
      },
      "outputs": [
        {
          "name": "stdout",
          "output_type": "stream",
          "text": [
            "              precision    recall  f1-score   support\n",
            "\n",
            " non-suicide       0.95      0.91      0.93     27541\n",
            "     suicide       0.89      0.94      0.92     21384\n",
            "\n",
            "    accuracy                           0.92     48925\n",
            "   macro avg       0.92      0.93      0.92     48925\n",
            "weighted avg       0.93      0.92      0.92     48925\n",
            "\n",
            "Exactitud: 0.9233\n"
          ]
        }
      ],
      "source": [
        "# Mostrar reporte de clasificación\n",
        "print(classification_report(test_labels, predicciones_test))\n",
        "print('Exactitud: %.4f' % accuracy_score(test_labels, predicciones_test))"
      ]
    },
    {
      "cell_type": "markdown",
      "metadata": {
        "id": "pDYmIJVvf38n"
      },
      "source": [
        "### SDGClassifier"
      ]
    },
    {
      "cell_type": "markdown",
      "metadata": {
        "id": "Cj9borE4f6sX"
      },
      "source": [
        "#### Con Pipeline"
      ]
    },
    {
      "cell_type": "code",
      "execution_count": 29,
      "metadata": {
        "id": "wCzdm1Y6CBW_"
      },
      "outputs": [],
      "source": [
        "text_clf = Pipeline([('vect', CountVectorizer(tokenizer = tokenize, binary=True)),('tfidf', TfidfTransformer()),('clf', SGDClassifier(loss='hinge', penalty='l2',alpha=1e-3, random_state=42,max_iter=5, tol=None)),])"
      ]
    },
    {
      "cell_type": "code",
      "execution_count": 30,
      "metadata": {
        "colab": {
          "base_uri": "https://localhost:8080/"
        },
        "id": "TVm0z-EwCe2A",
        "outputId": "f1951383-53e9-4cef-f6e2-8d797f0657d0"
      },
      "outputs": [
        {
          "data": {
            "text/plain": [
              "Pipeline(steps=[('vect',\n",
              "                 CountVectorizer(binary=True,\n",
              "                                 tokenizer=<function tokenize at 0x7fee6808ee50>)),\n",
              "                ('tfidf', TfidfTransformer()),\n",
              "                ('clf',\n",
              "                 SGDClassifier(alpha=0.001, max_iter=5, random_state=42,\n",
              "                               tol=None))])"
            ]
          },
          "execution_count": 30,
          "metadata": {},
          "output_type": "execute_result"
        }
      ],
      "source": [
        "text_clf.fit(train_text, train_labels)"
      ]
    },
    {
      "cell_type": "code",
      "execution_count": 31,
      "metadata": {
        "colab": {
          "base_uri": "https://localhost:8080/"
        },
        "id": "X2VY26oYgKpi",
        "outputId": "822d5cf6-4b49-4882-ace9-88a6a15d48b9"
      },
      "outputs": [
        {
          "name": "stdout",
          "output_type": "stream",
          "text": [
            "Train accuracy: 89.4301%\n"
          ]
        }
      ],
      "source": [
        "predicciones_train = text_clf.predict(train_text)\n",
        "accuracy = accuracy_score(train_labels, predicciones_train)\n",
        "print(f\"Train accuracy: {accuracy:.4%}\")"
      ]
    },
    {
      "cell_type": "code",
      "execution_count": 32,
      "metadata": {
        "colab": {
          "base_uri": "https://localhost:8080/"
        },
        "id": "UAgqu0eFgKpi",
        "outputId": "02a19930-cdf9-4330-a7be-13fbe3338ffd"
      },
      "outputs": [
        {
          "name": "stdout",
          "output_type": "stream",
          "text": [
            "Test accuracy: 90.0991%\n"
          ]
        }
      ],
      "source": [
        "predicciones_test = text_clf.predict(test_text)\n",
        "accuracy = accuracy_score(test_labels, predicciones_test)\n",
        "print(f\"Test accuracy: {accuracy:.4%}\")"
      ]
    },
    {
      "cell_type": "markdown",
      "metadata": {
        "id": "riPJ6RjXgKpj"
      },
      "source": [
        "#### Sin Pipeline"
      ]
    },
    {
      "cell_type": "code",
      "execution_count": 33,
      "metadata": {
        "id": "l8XGvUbBHZ1m"
      },
      "outputs": [],
      "source": [
        "classifier3 = SGDClassifier(loss='hinge', penalty='l2',alpha=1e-3, random_state=42,max_iter=5, tol=None)\n",
        "classifier3 = classifier3.fit(train_X, train_labels)"
      ]
    },
    {
      "cell_type": "code",
      "execution_count": 34,
      "metadata": {
        "colab": {
          "base_uri": "https://localhost:8080/"
        },
        "id": "bLiCFZagHZ1n",
        "outputId": "45707a13-f8cc-407c-a4f5-fffecf00065f"
      },
      "outputs": [
        {
          "name": "stdout",
          "output_type": "stream",
          "text": [
            "Train accuracy: 93.1358%\n"
          ]
        }
      ],
      "source": [
        "predicciones_train = classifier3.predict(train_X)\n",
        "accuracy = accuracy_score(train_labels, predicciones_train)\n",
        "print(f\"Train accuracy: {accuracy:.4%}\")"
      ]
    },
    {
      "cell_type": "code",
      "execution_count": 35,
      "metadata": {
        "colab": {
          "base_uri": "https://localhost:8080/"
        },
        "id": "6L9Wnyn0HZ1p",
        "outputId": "a954feb4-2039-4ef1-a19c-708d34b4352f"
      },
      "outputs": [
        {
          "name": "stdout",
          "output_type": "stream",
          "text": [
            "Test accuracy: 92.5376%\n"
          ]
        }
      ],
      "source": [
        "predicciones_test = classifier3.predict(test_X)\n",
        "accuracy = accuracy_score(test_labels, predicciones_test)\n",
        "print(f\"Test accuracy: {accuracy:.4%}\")"
      ]
    },
    {
      "cell_type": "code",
      "execution_count": 36,
      "metadata": {
        "colab": {
          "base_uri": "https://localhost:8080/"
        },
        "id": "ufA9hCWRJABt",
        "outputId": "357ccfa2-d78b-4ff3-9ad6-4a4b246d87c8"
      },
      "outputs": [
        {
          "data": {
            "text/plain": [
              "array([[26570,   971],\n",
              "       [ 2680, 18704]])"
            ]
          },
          "execution_count": 36,
          "metadata": {},
          "output_type": "execute_result"
        }
      ],
      "source": [
        "# Se genera la matriz de confusión\n",
        "confusion_matrix(test_labels, predicciones_test)"
      ]
    },
    {
      "cell_type": "code",
      "execution_count": 37,
      "metadata": {
        "colab": {
          "base_uri": "https://localhost:8080/",
          "height": 334
        },
        "id": "UVKpRRgvJAB1",
        "outputId": "cf8c1e33-753d-481f-90d7-37427c2e7f92"
      },
      "outputs": [
        {
          "name": "stderr",
          "output_type": "stream",
          "text": [
            "/Users/mau/opt/anaconda3/lib/python3.9/site-packages/sklearn/utils/deprecation.py:87: FutureWarning: Function plot_confusion_matrix is deprecated; Function `plot_confusion_matrix` is deprecated in 1.0 and will be removed in 1.2. Use one of the class methods: ConfusionMatrixDisplay.from_predictions or ConfusionMatrixDisplay.from_estimator.\n",
            "  warnings.warn(msg, category=FutureWarning)\n"
          ]
        },
        {
          "data": {
            "image/png": "[encoded data removed]",
            "text/plain": [
              "<Figure size 432x288 with 2 Axes>"
            ]
          },
          "metadata": {
            "needs_background": "light"
          },
          "output_type": "display_data"
        }
      ],
      "source": [
        "# Se puede visualizar la matriz de confusión\n",
        "plot_confusion_matrix(classifier3, test_X, test_labels)  \n",
        "plt.show()"
      ]
    },
    {
      "cell_type": "code",
      "execution_count": 38,
      "metadata": {
        "colab": {
          "base_uri": "https://localhost:8080/"
        },
        "id": "vnJXcsaJHZ1v",
        "outputId": "a207fca3-d566-4499-d2d8-364ec69d5ad9"
      },
      "outputs": [
        {
          "name": "stdout",
          "output_type": "stream",
          "text": [
            "              precision    recall  f1-score   support\n",
            "\n",
            " non-suicide       0.91      0.96      0.94     27541\n",
            "     suicide       0.95      0.87      0.91     21384\n",
            "\n",
            "    accuracy                           0.93     48925\n",
            "   macro avg       0.93      0.92      0.92     48925\n",
            "weighted avg       0.93      0.93      0.92     48925\n",
            "\n",
            "Exactitud: 0.9254\n"
          ]
        }
      ],
      "source": [
        "# Mostrar reporte de clasificación\n",
        "print(classification_report(test_labels, predicciones_test))\n",
        "print('Exactitud: %.4f' % accuracy_score(test_labels, predicciones_test))"
      ]
    },
    {
      "cell_type": "markdown",
      "metadata": {
        "id": "zCsVeZaUiKnn"
      },
      "source": [
        "## Con limpieza"
      ]
    },
    {
      "cell_type": "code",
      "execution_count": 39,
      "metadata": {
        "colab": {
          "base_uri": "https://localhost:8080/"
        },
        "id": "b6yJx2VZiYc7",
        "outputId": "27a2ff08-9555-4c78-9772-2217d7f689ed"
      },
      "outputs": [
        {
          "name": "stdout",
          "output_type": "stream",
          "text": [
            "Training examples: 146775, testing examples 48925\n"
          ]
        }
      ],
      "source": [
        "train_text, test_text, train_labels, test_labels = train_test_split(df_copia[\"text\"], df_copia[\"class\"], stratify=df_copia[\"class\"])\n",
        "print(f\"Training examples: {len(train_text)}, testing examples {len(test_text)}\")"
      ]
    },
    {
      "cell_type": "code",
      "execution_count": 40,
      "metadata": {
        "id": "9QggjDtriYc7"
      },
      "outputs": [],
      "source": [
        "real_vectorizer = CountVectorizer(tokenizer = tokenize, binary=True)\n",
        "train_X = real_vectorizer.fit_transform(train_text)\n",
        "test_X = real_vectorizer.transform(test_text)"
      ]
    },
    {
      "cell_type": "markdown",
      "metadata": {
        "id": "C2fI-SP8iYc7"
      },
      "source": [
        "### LinearSVC"
      ]
    },
    {
      "cell_type": "code",
      "execution_count": 41,
      "metadata": {
        "colab": {
          "base_uri": "https://localhost:8080/"
        },
        "id": "uVnEwr92iYc7",
        "outputId": "b3050bd4-8674-4658-a8bd-019e8fb4c0ab"
      },
      "outputs": [
        {
          "name": "stderr",
          "output_type": "stream",
          "text": [
            "/Users/mau/opt/anaconda3/lib/python3.9/site-packages/sklearn/svm/_base.py:1206: ConvergenceWarning: Liblinear failed to converge, increase the number of iterations.\n",
            "  warnings.warn(\n"
          ]
        },
        {
          "data": {
            "text/plain": [
              "LinearSVC()"
            ]
          },
          "execution_count": 41,
          "metadata": {},
          "output_type": "execute_result"
        }
      ],
      "source": [
        "classifier = LinearSVC()\n",
        "classifier = classifier.fit(train_X, train_labels)\n",
        "LinearSVC(C=1.0, class_weight=None, dual=True, fit_intercept=True,\n",
        "          intercept_scaling=1, loss='squared_hinge', max_iter=1000,\n",
        "          multi_class='ovr', penalty='l2', random_state=None, tol=0.0001,\n",
        "          verbose=0)"
      ]
    },
    {
      "cell_type": "code",
      "execution_count": 42,
      "metadata": {
        "colab": {
          "base_uri": "https://localhost:8080/"
        },
        "id": "taCoqteyiYc7",
        "outputId": "822d5cf6-4b49-4882-ace9-88a6a15d48b9"
      },
      "outputs": [
        {
          "name": "stdout",
          "output_type": "stream",
          "text": [
            "Train accuracy: 99.7234%\n"
          ]
        }
      ],
      "source": [
        "predicciones_train = classifier.predict(train_X)\n",
        "accuracy = accuracy_score(train_labels, predicciones_train)\n",
        "print(f\"Train accuracy: {accuracy:.4%}\")"
      ]
    },
    {
      "cell_type": "code",
      "execution_count": 43,
      "metadata": {
        "colab": {
          "base_uri": "https://localhost:8080/"
        },
        "id": "wmWoyQgJiYc8",
        "outputId": "02a19930-cdf9-4330-a7be-13fbe3338ffd"
      },
      "outputs": [
        {
          "name": "stdout",
          "output_type": "stream",
          "text": [
            "Test accuracy: 93.4921%\n"
          ]
        }
      ],
      "source": [
        "predicciones_test = classifier.predict(test_X)\n",
        "accuracy = accuracy_score(test_labels, predicciones_test)\n",
        "print(f\"Test accuracy: {accuracy:.4%}\")"
      ]
    },
    {
      "cell_type": "code",
      "execution_count": 44,
      "metadata": {
        "colab": {
          "base_uri": "https://localhost:8080/"
        },
        "id": "gjyvhi_wiYc8",
        "outputId": "514be3d8-a76d-49ba-899b-990d77dfda2b"
      },
      "outputs": [
        {
          "data": {
            "text/plain": [
              "array([[26570,   971],\n",
              "       [ 2213, 19171]])"
            ]
          },
          "execution_count": 44,
          "metadata": {},
          "output_type": "execute_result"
        }
      ],
      "source": [
        "# Se genera la matriz de confusión\n",
        "confusion_matrix(test_labels, predicciones_test)"
      ]
    },
    {
      "cell_type": "code",
      "execution_count": 45,
      "metadata": {
        "colab": {
          "base_uri": "https://localhost:8080/",
          "height": 334
        },
        "id": "NXGGYYNZiYc8",
        "outputId": "70ff39fc-6b82-43f7-b197-d324d0628dc4"
      },
      "outputs": [
        {
          "name": "stderr",
          "output_type": "stream",
          "text": [
            "/Users/mau/opt/anaconda3/lib/python3.9/site-packages/sklearn/utils/deprecation.py:87: FutureWarning: Function plot_confusion_matrix is deprecated; Function `plot_confusion_matrix` is deprecated in 1.0 and will be removed in 1.2. Use one of the class methods: ConfusionMatrixDisplay.from_predictions or ConfusionMatrixDisplay.from_estimator.\n",
            "  warnings.warn(msg, category=FutureWarning)\n"
          ]
        },
        {
          "data": {
            "image/png": "[encoded data removed]",
            "text/plain": [
              "<Figure size 432x288 with 2 Axes>"
            ]
          },
          "metadata": {
            "needs_background": "light"
          },
          "output_type": "display_data"
        }
      ],
      "source": [
        "# Se puede visualizar la matriz de confusión\n",
        "plot_confusion_matrix(classifier, test_X, test_labels)  \n",
        "plt.show()"
      ]
    },
    {
      "cell_type": "code",
      "execution_count": 46,
      "metadata": {
        "colab": {
          "base_uri": "https://localhost:8080/"
        },
        "id": "PZIKJk8iiYc8",
        "outputId": "9c45294d-5512-409e-92b1-2888df5a10ff"
      },
      "outputs": [
        {
          "name": "stdout",
          "output_type": "stream",
          "text": [
            "              precision    recall  f1-score   support\n",
            "\n",
            " non-suicide       0.92      0.96      0.94     27541\n",
            "     suicide       0.95      0.90      0.92     21384\n",
            "\n",
            "    accuracy                           0.93     48925\n",
            "   macro avg       0.94      0.93      0.93     48925\n",
            "weighted avg       0.94      0.93      0.93     48925\n",
            "\n",
            "Exactitud: 0.9349\n"
          ]
        }
      ],
      "source": [
        "# Mostrar reporte de clasificación\n",
        "print(classification_report(test_labels, predicciones_test))\n",
        "print('Exactitud: %.4f' % accuracy_score(test_labels, predicciones_test))"
      ]
    },
    {
      "cell_type": "markdown",
      "metadata": {
        "id": "EWN24ASOiYc8"
      },
      "source": [
        "### Naive Bayers"
      ]
    },
    {
      "cell_type": "markdown",
      "metadata": {
        "id": "mokTzWsdiYc8"
      },
      "source": [
        "#### Con Pipeline"
      ]
    },
    {
      "cell_type": "code",
      "execution_count": 47,
      "metadata": {
        "id": "t7_q282fiYc8",
        "outputId": "10b43947-4128-4010-f708-9d640e4973e0"
      },
      "outputs": [
        {
          "data": {
            "text/plain": [
              "Pipeline(steps=[('tfidfvectorizer',\n",
              "                 TfidfVectorizer(binary=True,\n",
              "                                 tokenizer=<function tokenize at 0x7fee6808ee50>)),\n",
              "                ('multinomialnb', MultinomialNB())])"
            ]
          },
          "execution_count": 47,
          "metadata": {},
          "output_type": "execute_result"
        }
      ],
      "source": [
        "# Model building\n",
        "model = make_pipeline(TfidfVectorizer(tokenizer = tokenize, binary=True), MultinomialNB())\n",
        "# Training the model with the training data\n",
        "model.fit(train_text, train_labels)"
      ]
    },
    {
      "cell_type": "code",
      "execution_count": 48,
      "metadata": {
        "colab": {
          "base_uri": "https://localhost:8080/"
        },
        "id": "0NBH2NE0iYc8",
        "outputId": "822d5cf6-4b49-4882-ace9-88a6a15d48b9"
      },
      "outputs": [
        {
          "name": "stdout",
          "output_type": "stream",
          "text": [
            "Train accuracy: 92.2160%\n"
          ]
        }
      ],
      "source": [
        "predicciones_train = model.predict(train_text)\n",
        "accuracy = accuracy_score(train_labels, predicciones_train)\n",
        "print(f\"Train accuracy: {accuracy:.4%}\")"
      ]
    },
    {
      "cell_type": "code",
      "execution_count": 49,
      "metadata": {
        "colab": {
          "base_uri": "https://localhost:8080/"
        },
        "id": "doTVbycriYc9",
        "outputId": "02a19930-cdf9-4330-a7be-13fbe3338ffd"
      },
      "outputs": [
        {
          "name": "stdout",
          "output_type": "stream",
          "text": [
            "Test accuracy: 90.9351%\n"
          ]
        }
      ],
      "source": [
        "predicciones_test = model.predict(test_text)\n",
        "accuracy = accuracy_score(test_labels, predicciones_test)\n",
        "print(f\"Test accuracy: {accuracy:.4%}\")"
      ]
    },
    {
      "cell_type": "markdown",
      "metadata": {
        "id": "DtLvb5J-iYc9"
      },
      "source": [
        "#### Sin Pipeline"
      ]
    },
    {
      "cell_type": "code",
      "execution_count": 50,
      "metadata": {
        "id": "QnS2cm5NiYc9"
      },
      "outputs": [],
      "source": [
        "classifier2 = MultinomialNB()\n",
        "classifier2 = classifier2.fit(train_X, train_labels)"
      ]
    },
    {
      "cell_type": "code",
      "execution_count": 51,
      "metadata": {
        "colab": {
          "base_uri": "https://localhost:8080/"
        },
        "id": "_jNf2S88iYc9",
        "outputId": "822d5cf6-4b49-4882-ace9-88a6a15d48b9"
      },
      "outputs": [
        {
          "name": "stdout",
          "output_type": "stream",
          "text": [
            "Train accuracy: 93.2073%\n"
          ]
        }
      ],
      "source": [
        "predicciones_train = classifier2.predict(train_X)\n",
        "accuracy = accuracy_score(train_labels, predicciones_train)\n",
        "print(f\"Train accuracy: {accuracy:.4%}\")"
      ]
    },
    {
      "cell_type": "code",
      "execution_count": 52,
      "metadata": {
        "colab": {
          "base_uri": "https://localhost:8080/"
        },
        "id": "GYYylSMdiYc9",
        "outputId": "02a19930-cdf9-4330-a7be-13fbe3338ffd"
      },
      "outputs": [
        {
          "name": "stdout",
          "output_type": "stream",
          "text": [
            "Test accuracy: 92.4619%\n"
          ]
        }
      ],
      "source": [
        "predicciones_test = classifier2.predict(test_X)\n",
        "accuracy = accuracy_score(test_labels, predicciones_test)\n",
        "print(f\"Test accuracy: {accuracy:.4%}\")"
      ]
    },
    {
      "cell_type": "code",
      "execution_count": 53,
      "metadata": {
        "colab": {
          "base_uri": "https://localhost:8080/"
        },
        "id": "4GX-Z_mJiYc9",
        "outputId": "514be3d8-a76d-49ba-899b-990d77dfda2b"
      },
      "outputs": [
        {
          "data": {
            "text/plain": [
              "array([[24970,  2571],\n",
              "       [ 1117, 20267]])"
            ]
          },
          "execution_count": 53,
          "metadata": {},
          "output_type": "execute_result"
        }
      ],
      "source": [
        "# Se genera la matriz de confusión\n",
        "confusion_matrix(test_labels, predicciones_test)"
      ]
    },
    {
      "cell_type": "code",
      "execution_count": 54,
      "metadata": {
        "colab": {
          "base_uri": "https://localhost:8080/",
          "height": 334
        },
        "id": "TrAU6DXYiYc9",
        "outputId": "70ff39fc-6b82-43f7-b197-d324d0628dc4"
      },
      "outputs": [
        {
          "name": "stderr",
          "output_type": "stream",
          "text": [
            "/Users/mau/opt/anaconda3/lib/python3.9/site-packages/sklearn/utils/deprecation.py:87: FutureWarning: Function plot_confusion_matrix is deprecated; Function `plot_confusion_matrix` is deprecated in 1.0 and will be removed in 1.2. Use one of the class methods: ConfusionMatrixDisplay.from_predictions or ConfusionMatrixDisplay.from_estimator.\n",
            "  warnings.warn(msg, category=FutureWarning)\n"
          ]
        },
        {
          "data": {
            "image/png": "[encoded data removed]",
            "text/plain": [
              "<Figure size 432x288 with 2 Axes>"
            ]
          },
          "metadata": {
            "needs_background": "light"
          },
          "output_type": "display_data"
        }
      ],
      "source": [
        "# Se puede visualizar la matriz de confusión\n",
        "plot_confusion_matrix(classifier, test_X, test_labels)  \n",
        "plt.show()"
      ]
    },
    {
      "cell_type": "code",
      "execution_count": 55,
      "metadata": {
        "colab": {
          "base_uri": "https://localhost:8080/"
        },
        "id": "WZDpGqJUiYc9",
        "outputId": "9c45294d-5512-409e-92b1-2888df5a10ff"
      },
      "outputs": [
        {
          "name": "stdout",
          "output_type": "stream",
          "text": [
            "              precision    recall  f1-score   support\n",
            "\n",
            " non-suicide       0.96      0.91      0.93     27541\n",
            "     suicide       0.89      0.95      0.92     21384\n",
            "\n",
            "    accuracy                           0.92     48925\n",
            "   macro avg       0.92      0.93      0.92     48925\n",
            "weighted avg       0.93      0.92      0.92     48925\n",
            "\n",
            "Exactitud: 0.9246\n"
          ]
        }
      ],
      "source": [
        "# Mostrar reporte de clasificación\n",
        "print(classification_report(test_labels, predicciones_test))\n",
        "print('Exactitud: %.4f' % accuracy_score(test_labels, predicciones_test))"
      ]
    },
    {
      "cell_type": "markdown",
      "metadata": {
        "id": "qkU14HV7iYc-"
      },
      "source": [
        "### SDGClassifier"
      ]
    },
    {
      "cell_type": "markdown",
      "metadata": {
        "id": "6Bjz4yQpiYc-"
      },
      "source": [
        "#### Con Pipeline"
      ]
    },
    {
      "cell_type": "code",
      "execution_count": 56,
      "metadata": {
        "id": "zcjNrQoFiYc-"
      },
      "outputs": [],
      "source": [
        "text_clf = Pipeline([('vect', CountVectorizer(tokenizer = tokenize, binary=True)),('tfidf', TfidfTransformer()),('clf', SGDClassifier(loss='hinge', penalty='l2',alpha=1e-3, random_state=42,max_iter=5, tol=None)),])"
      ]
    },
    {
      "cell_type": "code",
      "execution_count": 57,
      "metadata": {
        "colab": {
          "base_uri": "https://localhost:8080/"
        },
        "id": "BAtekWJbiYc-",
        "outputId": "f1951383-53e9-4cef-f6e2-8d797f0657d0"
      },
      "outputs": [
        {
          "data": {
            "text/plain": [
              "Pipeline(steps=[('vect',\n",
              "                 CountVectorizer(binary=True,\n",
              "                                 tokenizer=<function tokenize at 0x7fee6808ee50>)),\n",
              "                ('tfidf', TfidfTransformer()),\n",
              "                ('clf',\n",
              "                 SGDClassifier(alpha=0.001, max_iter=5, random_state=42,\n",
              "                               tol=None))])"
            ]
          },
          "execution_count": 57,
          "metadata": {},
          "output_type": "execute_result"
        }
      ],
      "source": [
        "text_clf.fit(train_text, train_labels)"
      ]
    },
    {
      "cell_type": "code",
      "execution_count": 58,
      "metadata": {
        "colab": {
          "base_uri": "https://localhost:8080/"
        },
        "id": "v5s_zWwsiYc-",
        "outputId": "822d5cf6-4b49-4882-ace9-88a6a15d48b9"
      },
      "outputs": [
        {
          "name": "stdout",
          "output_type": "stream",
          "text": [
            "Train accuracy: 89.3708%\n"
          ]
        }
      ],
      "source": [
        "predicciones_train = text_clf.predict(train_text)\n",
        "accuracy = accuracy_score(train_labels, predicciones_train)\n",
        "print(f\"Train accuracy: {accuracy:.4%}\")"
      ]
    },
    {
      "cell_type": "code",
      "execution_count": 59,
      "metadata": {
        "colab": {
          "base_uri": "https://localhost:8080/"
        },
        "id": "BKq5qNvSiYc-",
        "outputId": "02a19930-cdf9-4330-a7be-13fbe3338ffd"
      },
      "outputs": [
        {
          "name": "stdout",
          "output_type": "stream",
          "text": [
            "Test accuracy: 90.0623%\n"
          ]
        }
      ],
      "source": [
        "predicciones_test = text_clf.predict(test_text)\n",
        "accuracy = accuracy_score(test_labels, predicciones_test)\n",
        "print(f\"Test accuracy: {accuracy:.4%}\")"
      ]
    },
    {
      "cell_type": "markdown",
      "metadata": {
        "id": "1S5FN8aTiYc-"
      },
      "source": [
        "#### Sin Pipeline"
      ]
    },
    {
      "cell_type": "code",
      "execution_count": 60,
      "metadata": {
        "id": "z-pUhOQNiYc-"
      },
      "outputs": [],
      "source": [
        "classifier3 = SGDClassifier(loss='hinge', penalty='l2',alpha=1e-3, random_state=42,max_iter=5, tol=None)\n",
        "classifier3 = classifier3.fit(train_X, train_labels)"
      ]
    },
    {
      "cell_type": "code",
      "execution_count": 61,
      "metadata": {
        "colab": {
          "base_uri": "https://localhost:8080/"
        },
        "id": "GjUZdKJ5iYc-",
        "outputId": "45707a13-f8cc-407c-a4f5-fffecf00065f"
      },
      "outputs": [
        {
          "name": "stdout",
          "output_type": "stream",
          "text": [
            "Train accuracy: 93.3020%\n"
          ]
        }
      ],
      "source": [
        "predicciones_train = classifier3.predict(train_X)\n",
        "accuracy = accuracy_score(train_labels, predicciones_train)\n",
        "print(f\"Train accuracy: {accuracy:.4%}\")"
      ]
    },
    {
      "cell_type": "code",
      "execution_count": 62,
      "metadata": {
        "colab": {
          "base_uri": "https://localhost:8080/"
        },
        "id": "xcSlpZktiYc_",
        "outputId": "a954feb4-2039-4ef1-a19c-708d34b4352f"
      },
      "outputs": [
        {
          "name": "stdout",
          "output_type": "stream",
          "text": [
            "Test accuracy: 92.8973%\n"
          ]
        }
      ],
      "source": [
        "predicciones_test = classifier3.predict(test_X)\n",
        "accuracy = accuracy_score(test_labels, predicciones_test)\n",
        "print(f\"Test accuracy: {accuracy:.4%}\")"
      ]
    },
    {
      "cell_type": "code",
      "execution_count": 63,
      "metadata": {
        "colab": {
          "base_uri": "https://localhost:8080/"
        },
        "id": "hMYfgtO4iYc_",
        "outputId": "357ccfa2-d78b-4ff3-9ad6-4a4b246d87c8"
      },
      "outputs": [
        {
          "data": {
            "text/plain": [
              "array([[26345,  1196],\n",
              "       [ 2279, 19105]])"
            ]
          },
          "execution_count": 63,
          "metadata": {},
          "output_type": "execute_result"
        }
      ],
      "source": [
        "# Se genera la matriz de confusión\n",
        "confusion_matrix(test_labels, predicciones_test)"
      ]
    },
    {
      "cell_type": "code",
      "execution_count": 64,
      "metadata": {
        "colab": {
          "base_uri": "https://localhost:8080/",
          "height": 334
        },
        "id": "3LNXp1cjiYc_",
        "outputId": "cf8c1e33-753d-481f-90d7-37427c2e7f92"
      },
      "outputs": [
        {
          "name": "stderr",
          "output_type": "stream",
          "text": [
            "/Users/mau/opt/anaconda3/lib/python3.9/site-packages/sklearn/utils/deprecation.py:87: FutureWarning: Function plot_confusion_matrix is deprecated; Function `plot_confusion_matrix` is deprecated in 1.0 and will be removed in 1.2. Use one of the class methods: ConfusionMatrixDisplay.from_predictions or ConfusionMatrixDisplay.from_estimator.\n",
            "  warnings.warn(msg, category=FutureWarning)\n"
          ]
        },
        {
          "data": {
            "image/png": "[encoded data removed]",
            "text/plain": [
              "<Figure size 432x288 with 2 Axes>"
            ]
          },
          "metadata": {
            "needs_background": "light"
          },
          "output_type": "display_data"
        }
      ],
      "source": [
        "# Se puede visualizar la matriz de confusión\n",
        "plot_confusion_matrix(classifier3, test_X, test_labels)  \n",
        "plt.show()"
      ]
    },
    {
      "cell_type": "code",
      "execution_count": 65,
      "metadata": {
        "colab": {
          "base_uri": "https://localhost:8080/"
        },
        "id": "qYy7KS3SiYc_",
        "outputId": "a207fca3-d566-4499-d2d8-364ec69d5ad9"
      },
      "outputs": [
        {
          "name": "stdout",
          "output_type": "stream",
          "text": [
            "              precision    recall  f1-score   support\n",
            "\n",
            " non-suicide       0.92      0.96      0.94     27541\n",
            "     suicide       0.94      0.89      0.92     21384\n",
            "\n",
            "    accuracy                           0.93     48925\n",
            "   macro avg       0.93      0.92      0.93     48925\n",
            "weighted avg       0.93      0.93      0.93     48925\n",
            "\n",
            "Exactitud: 0.9290\n"
          ]
        }
      ],
      "source": [
        "# Mostrar reporte de clasificación\n",
        "print(classification_report(test_labels, predicciones_test))\n",
        "print('Exactitud: %.4f' % accuracy_score(test_labels, predicciones_test))"
      ]
    }
  ],
  "metadata": {
    "colab": {
      "collapsed_sections": [
        "l22ibw4sdzHz",
        "g5Sm7FBBe20d",
        "FoFxlZcbfScI",
        "Cj9borE4f6sX"
      ],
      "provenance": [],
      "toc_visible": true
    },
    "kernelspec": {
      "display_name": "Python 3.9.12 ('base')",
      "language": "python",
      "name": "python3"
    },
    "language_info": {
      "codemirror_mode": {
        "name": "ipython",
        "version": 3
      },
      "file_extension": ".py",
      "mimetype": "text/x-python",
      "name": "python",
      "nbconvert_exporter": "python",
      "pygments_lexer": "ipython3",
      "version": "3.9.12"
    },
    "vscode": {
      "interpreter": {
        "hash": "5faf49b4097dd0f3767549b8177ceb92c6363dc7e70760be3d993f0933fb8b02"
      }
    }
  },
  "nbformat": 4,
  "nbformat_minor": 0
}
